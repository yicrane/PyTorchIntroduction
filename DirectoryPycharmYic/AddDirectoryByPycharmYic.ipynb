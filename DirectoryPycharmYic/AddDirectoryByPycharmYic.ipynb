{
 "cells": [
  {
   "cell_type": "code",
   "execution_count": 1,
   "metadata": {
    "collapsed": true,
    "pycharm": {
     "is_executing": false
    }
   },
   "outputs": [
    {
     "name": "stdout",
     "text": [
      "Add Directory By Pycharm Yic\n"
     ],
     "output_type": "stream"
    }
   ],
   "source": [
    "print('Add Directory By Pycharm Yic')\n"
   ]
  }
 ],
 "metadata": {
  "kernelspec": {
   "name": "pycharm-b5319f3d",
   "language": "python",
   "display_name": "PyCharm (CvsPychramGithub RealSR)"
  },
  "language_info": {
   "codemirror_mode": {
    "name": "ipython",
    "version": 2
   },
   "file_extension": ".py",
   "mimetype": "text/x-python",
   "name": "python",
   "nbconvert_exporter": "python",
   "pygments_lexer": "ipython2",
   "version": "2.7.6"
  },
  "pycharm": {
   "stem_cell": {
    "cell_type": "raw",
    "source": [],
    "metadata": {
     "collapsed": false
    }
   }
  }
 },
 "nbformat": 4,
 "nbformat_minor": 0
}