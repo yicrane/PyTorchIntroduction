{
 "cells": [
  {
   "cell_type": "markdown",
   "metadata": {
    "collapsed": true,
    "pycharm": {
     "name": "#%% md\n"
    }
   },
   "source": [
    "# 第4章 PyTorch 机器视觉案例\n",
    "                  > Yicrane 创建于 2020.09.11"
   ]
  },
  {
   "cell_type": "markdown",
   "source": [
    "## 4.1常见视觉任务和数据集\n",
    "> * 深度网络中，越靠前的卷积层提取的信息越局部\n",
    "> * 目标检测任务、图像分割、**图像生成**"
   ],
   "metadata": {
    "collapsed": false,
    "pycharm": {
     "name": "#%% md\n",
     "is_executing": true
    }
   }
  },
  {
   "cell_type": "markdown",
   "source": [
    "### 4.1.5 常用数据集\n",
    "> 小型数据集："
   ],
   "metadata": {
    "collapsed": false,
    "pycharm": {
     "name": "#%% md\n"
    }
   }
  },
  {
   "cell_type": "code",
   "execution_count": 3,
   "outputs": [
    {
     "ename": "SyntaxError",
     "evalue": "invalid syntax (<ipython-input-3-f9e2933414ad>, line 4)",
     "output_type": "error",
     "traceback": [
      "\u001B[1;36m  File \u001B[1;32m\"<ipython-input-3-f9e2933414ad>\"\u001B[1;36m, line \u001B[1;32m4\u001B[0m\n\u001B[1;33m    class torchvision.datasets.MNIST(root , train=True , transform=None ,\u001B[0m\n\u001B[1;37m                     ^\u001B[0m\n\u001B[1;31mSyntaxError\u001B[0m\u001B[1;31m:\u001B[0m invalid syntax\n"
     ]
    }
   ],
   "source": [
    "import torchvision\n",
    "\n",
    "\n",
    "class torchvision.datasets.MNIST(root , train=True , transform=None ,\n",
    "target_transform=None , download=False)\n",
    "\n",
    "\n",
    "class torchvision.datasets.CIFAR10(root , train=True , transform=None ,\n",
    "target_transform=None , download=False)"
   ],
   "metadata": {
    "collapsed": false,
    "pycharm": {
     "name": "#%%\n"
    }
   }
  },
  {
   "cell_type": "markdown",
   "source": [
    "> 中型数据集："
   ],
   "metadata": {
    "collapsed": false
   }
  },
  {
   "cell_type": "code",
   "execution_count": 4,
   "outputs": [
    {
     "ename": "SyntaxError",
     "evalue": "invalid syntax (<ipython-input-4-4710e5ab5576>, line 1)",
     "output_type": "error",
     "traceback": [
      "\u001B[1;36m  File \u001B[1;32m\"<ipython-input-4-4710e5ab5576>\"\u001B[1;36m, line \u001B[1;32m1\u001B[0m\n\u001B[1;33m    class torchvision.datasets.VOCSegmentation(root, year='2012',\u001B[0m\n\u001B[1;37m                     ^\u001B[0m\n\u001B[1;31mSyntaxError\u001B[0m\u001B[1;31m:\u001B[0m invalid syntax\n"
     ]
    }
   ],
   "source": [
    "class torchvision.datasets.VOCSegmentation(root, year='2012',\n",
    "    image_set='train'， download=False, transform=None,\n",
    "    target_transform=None, transforms=None)"
   ],
   "metadata": {
    "collapsed": false,
    "pycharm": {
     "name": "#%%\n"
    }
   }
  },
  {
   "cell_type": "markdown",
   "source": [
    "> 大型数据集："
   ],
   "metadata": {
    "collapsed": false
   }
  },
  {
   "cell_type": "code",
   "execution_count": null,
   "outputs": [],
   "source": [
    "class torchvision.datasets.ImageNet(root, split='train', download=False,\n",
    "    **kwargs)\n",
    "class torchvision.datasets.CocoDetection(root, annFile, transform=None,\n",
    "    target_transform=None, transforms=None)\n"
   ],
   "metadata": {
    "collapsed": false,
    "pycharm": {
     "name": "#%%\n"
    }
   }
  }
 ],
 "metadata": {
  "kernelspec": {
   "display_name": "Python 3",
   "language": "python",
   "name": "python3"
  },
  "language_info": {
   "codemirror_mode": {
    "name": "ipython",
    "version": 2
   },
   "file_extension": ".py",
   "mimetype": "text/x-python",
   "name": "python",
   "nbconvert_exporter": "python",
   "pygments_lexer": "ipython2",
   "version": "2.7.6"
  }
 },
 "nbformat": 4,
 "nbformat_minor": 0
}